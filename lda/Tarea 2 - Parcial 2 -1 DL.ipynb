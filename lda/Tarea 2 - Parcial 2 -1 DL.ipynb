{
 "cells": [
  {
   "cell_type": "code",
   "execution_count": 1,
   "metadata": {},
   "outputs": [],
   "source": [
    "import numpy as np\n",
    "import pandas as pd\n",
    "import matplotlib.pyplot as plt\n",
    "\n",
    "%matplotlib inline\n",
    "#matplotib notebook"
   ]
  },
  {
   "cell_type": "markdown",
   "metadata": {},
   "source": [
    "Considera un conjunto de observaciones agrupadas en $K$ clases:\n",
    "\n",
    "\\begin{matrix}\n",
    "\\hline\n",
    "x_{11} &  x_{12} & \\ldots & x_{1d} & \\color{blue}{y_1} \\\\\n",
    "x_{21} & x_{22} & \\ldots & x_{1d} & \\color{blue}{y_2} \\\\\n",
    "\\vdots & \\vdots & \\vdots & \\vdots & \\vdots\\\\   \n",
    "x_{N1} & x_{N2} & \\ldots & x_{Nd} & \\color{blue}{y_N} \\\\\n",
    "\\hline\n",
    "\\end{matrix}\n",
    "\n",
    "siendo $y_i \\in \\{l_1, l_2, \\ldots, l_K\\}$"
   ]
  },
  {
   "cell_type": "markdown",
   "metadata": {},
   "source": [
    "# Modelo generativo\n",
    "\n",
    "Considera además que las observaciones de cada clase provienen de una distribución normal multivariada:\n",
    "\n",
    "$$P(y_i \\; |\\; x) = \\frac{\\pi_i}{(2\\pi)^{d/2}|\\Sigma|} e^{-\\frac{1}{2}(x-\\mu_i)^{T}\\Sigma^{-1}(x-\\mu_i)}$$\n",
    "\n",
    "Siendo $\\mu_i$ el centro de cada normal, $\\Sigma$ la matriz de covarianza (que por ahora suponemos la misma para todas las clases) y $\\pi_i$ la probabilidad de ocurrencia de la clase $i-$ésima. \n",
    "\n",
    "Un ejemplo, para dos clases, se muestra en la siguiente celda."
   ]
  },
  {
   "cell_type": "code",
   "execution_count": 2,
   "metadata": {},
   "outputs": [
    {
     "data": {
      "image/png": "[encoded data removed]",
      "text/plain": [
       "<Figure size 432x288 with 1 Axes>"
      ]
     },
     "metadata": {
      "needs_background": "light"
     },
     "output_type": "display_data"
    }
   ],
   "source": [
    "#medias de clase\n",
    "m1 = np.array([5,0])\n",
    "m2 = np.array([0,5])\n",
    "\n",
    "#matriz de covarianza, común y diagonal\n",
    "s = 5\n",
    "S = s*np.eye(2)\n",
    "#S = np.array([[1,0],[0,1]])\n",
    "\n",
    "#número de observaciones\n",
    "n = 100\n",
    "\n",
    "#genera los datos\n",
    "X1 = np.random.multivariate_normal(m1, S, n)\n",
    "X2 = np.random.multivariate_normal(m2, S, n)\n",
    "\n",
    "plt.plot(X1[:,0],X1[:,1],'bo', alpha=0.25)\n",
    "plt.plot(X2[:,0],X2[:,1],'ro', alpha=0.25)\n",
    "plt.show()"
   ]
  },
  {
   "cell_type": "code",
   "execution_count": 3,
   "metadata": {},
   "outputs": [
    {
     "data": {
      "text/html": [
       "<div>\n",
       "<style scoped>\n",
       "    .dataframe tbody tr th:only-of-type {\n",
       "        vertical-align: middle;\n",
       "    }\n",
       "\n",
       "    .dataframe tbody tr th {\n",
       "        vertical-align: top;\n",
       "    }\n",
       "\n",
       "    .dataframe thead th {\n",
       "        text-align: right;\n",
       "    }\n",
       "</style>\n",
       "<table border=\"1\" class=\"dataframe\">\n",
       "  <thead>\n",
       "    <tr style=\"text-align: right;\">\n",
       "      <th></th>\n",
       "      <th>x1</th>\n",
       "      <th>x2</th>\n",
       "      <th>y</th>\n",
       "    </tr>\n",
       "  </thead>\n",
       "  <tbody>\n",
       "    <tr>\n",
       "      <td>0</td>\n",
       "      <td>-0.425590</td>\n",
       "      <td>7.994537</td>\n",
       "      <td>1</td>\n",
       "    </tr>\n",
       "    <tr>\n",
       "      <td>1</td>\n",
       "      <td>4.260919</td>\n",
       "      <td>4.220391</td>\n",
       "      <td>2</td>\n",
       "    </tr>\n",
       "    <tr>\n",
       "      <td>2</td>\n",
       "      <td>3.555089</td>\n",
       "      <td>2.438795</td>\n",
       "      <td>2</td>\n",
       "    </tr>\n",
       "    <tr>\n",
       "      <td>3</td>\n",
       "      <td>7.633648</td>\n",
       "      <td>-1.457318</td>\n",
       "      <td>2</td>\n",
       "    </tr>\n",
       "    <tr>\n",
       "      <td>4</td>\n",
       "      <td>-0.504814</td>\n",
       "      <td>5.732889</td>\n",
       "      <td>1</td>\n",
       "    </tr>\n",
       "  </tbody>\n",
       "</table>\n",
       "</div>"
      ],
      "text/plain": [
       "         x1        x2  y\n",
       "0 -0.425590  7.994537  1\n",
       "1  4.260919  4.220391  2\n",
       "2  3.555089  2.438795  2\n",
       "3  7.633648 -1.457318  2\n",
       "4 -0.504814  5.732889  1"
      ]
     },
     "execution_count": 3,
     "metadata": {},
     "output_type": "execute_result"
    }
   ],
   "source": [
    "#guardamos las observaciones en un dataframe de Pandas\n",
    "X = np.vstack((X1,X2))\n",
    "df = pd.DataFrame(X,columns=['x1','x2'])\n",
    "df['y'] = 1\n",
    "df.iloc[:n,df.columns.get_loc('y')] = 2\n",
    "df = df.sample(frac=1) #reordena las filas\n",
    "df = df.reset_index(drop=True)\n",
    "df.head()"
   ]
  },
  {
   "cell_type": "markdown",
   "metadata": {},
   "source": [
    "## Clasificación\n",
    "\n",
    "Una vez que obtenemos el vector de características de una nueva observación, $x$, es muy fácil identificar a qué clase asignarla si conocemos los parámetros de la distribución de cada clase ($\\mu_i$ y $\\Sigma$): **simplemente identificando la clase con la mayor probabilidad**:\n",
    "\n",
    "$$\\color{blue}{y = l_k = \\arg\\max_{i} P(Y=l_i \\;|\\; X=x) = \\arg\\max_{i}\\frac{\\pi_i}{(2\\pi)^{d/2}|\\Sigma|}e^{-\\frac{1}{2}(x-\\mu_i)^{T}\\Sigma^{-1}(x-\\mu_i)}}$$ \n",
    "\n",
    "Tomando como referencia los datos que generamos más arriba, imagina que observas el vector de características $x = [1,\\;3]$ ¿a cuál clase se debe asignar? (considera que $\\pi_1 = \\pi_2 = \\frac{1}{2}$)"
   ]
  },
  {
   "cell_type": "code",
   "execution_count": 4,
   "metadata": {},
   "outputs": [
    {
     "data": {
      "image/png": "[encoded data removed]",
      "text/plain": [
       "<Figure size 432x288 with 1 Axes>"
      ]
     },
     "metadata": {
      "needs_background": "light"
     },
     "output_type": "display_data"
    }
   ],
   "source": [
    "plt.plot(X1[:,0],X1[:,1],'b.', alpha=0.25)\n",
    "plt.plot(X2[:,0],X2[:,1],'r.', alpha=0.25)\n",
    "plt.plot([1],[3],'ko')\n",
    "plt.show()"
   ]
  },
  {
   "cell_type": "code",
   "execution_count": 5,
   "metadata": {},
   "outputs": [
    {
     "name": "stdout",
     "output_type": "stream",
     "text": [
      "P(Y=1 | X=[1,3]) = 1.6445227636162075e-57\n",
      "P(Y=2 | X=[1,3]) = 4.420669830983572e-14\n"
     ]
    }
   ],
   "source": [
    "#evaluamos ambas probabilidades\n",
    "x = np.array([1,3])\n",
    "c = 2*np.pi*np.linalg.det(S)\n",
    "\n",
    "num1 = -np.dot(np.transpose(x-m1),np.dot(S,(x-m1)))\n",
    "p1 = 0.5*np.exp(num1)/c\n",
    "\n",
    "num2 = -np.dot(np.transpose(x-m2),np.dot(S,(x-m2)))\n",
    "p2 = 0.5*np.exp(num2)/c\n",
    "\n",
    "print('P(Y=1 | X=[1,3]) = ' + str(p1))\n",
    "print('P(Y=2 | X=[1,3]) = ' + str(p2))"
   ]
  },
  {
   "cell_type": "markdown",
   "metadata": {},
   "source": [
    "Alternativamente, podemos evaluar la razón entre dos probabilidades diferentes y verificar si es mayor o menor a uno:"
   ]
  },
  {
   "cell_type": "code",
   "execution_count": 6,
   "metadata": {},
   "outputs": [
    {
     "data": {
      "text/plain": [
       "3.720075976020836e-44"
      ]
     },
     "execution_count": 6,
     "metadata": {},
     "output_type": "execute_result"
    }
   ],
   "source": [
    "p1/p2 #asignamos a clase 2 pues la razón es menor a uno\n",
    "#observa que si la razón se encuentra en [0, 1) la clase es 2, \n",
    "#mientras que es uno si se encuentra en (1, oo)"
   ]
  },
  {
   "cell_type": "markdown",
   "metadata": {},
   "source": [
    "Otra estrategia más simétrica consiste en evaluar el logaritmo de la razón y verificar el signo:"
   ]
  },
  {
   "cell_type": "code",
   "execution_count": 7,
   "metadata": {},
   "outputs": [
    {
     "data": {
      "text/plain": [
       "-100.0"
      ]
     },
     "execution_count": 7,
     "metadata": {},
     "output_type": "execute_result"
    }
   ],
   "source": [
    "#asginamos a la clase 1 si el signo es positivo, si el signo es negativo a la clase 2\n",
    "np.log(p1/p2) "
   ]
  },
  {
   "cell_type": "markdown",
   "metadata": {},
   "source": [
    "Tomando esta última, podemos comparar las probabilidades de parejas de clases tomando el logaritmo de su razón:\n",
    "\n",
    "$$\\color{blue}{\\log{\\frac{P(Y=l_i \\;|\\; X=x)}{P(Y=l_j \\;|\\; X=x)}} = \\log{\\frac{\\pi_i}{\\pi_j}}-\\frac{1}{2}(\\mu_i+\\mu_j)^{T}\\Sigma^{-1}(\\mu_i-\\mu_j)+x^{T}\\Sigma^{-1}(\\mu_i-\\mu_j)}$$\n",
    "\n",
    "Los puntos del espacio en los que esta expresión es cero representan las fronteras entre clases, **las cuales son lineales**.\n",
    "\n",
    "**Ejemplo**\n",
    "\n",
    "Para los datos que construimos más arriba, la frontera entre las dos clases está dada por la ecuación:\n",
    "\n",
    "\\begin{align}\n",
    "      \\log{\\frac{\\pi_i}{\\pi_j}}-\\frac{1}{2}(\\mu_i+\\mu_j)^{T}\\Sigma^{-1}(\\mu_i-\\mu_j)+x^{T}\\Sigma^{-1}(\\mu_i-\\mu_j) &=0\\\\\n",
    "      &\\\\\n",
    "      \\log{\\frac{1/2}{1/2}}-\\frac{1}{2\\times5}\\left([5,0]+[0,5]\\right)\\left([5,0]-[0,5]\\right)^T+x^{T}([5,0]-[0,5])^T/5 &=0\n",
    "      &\\\\\n",
    "      &\\\\\n",
    "      \\color{red}{x_1-x_2}&\\color{red}{=0}\n",
    "\\end{align}"
   ]
  },
  {
   "cell_type": "code",
   "execution_count": 8,
   "metadata": {},
   "outputs": [
    {
     "data": {
      "image/png": "[encoded data removed]",
      "text/plain": [
       "<Figure size 432x288 with 1 Axes>"
      ]
     },
     "metadata": {
      "needs_background": "light"
     },
     "output_type": "display_data"
    }
   ],
   "source": [
    "plt.plot(X1[:,0],X1[:,1],'b.', alpha=0.25)\n",
    "plt.plot(X2[:,0],X2[:,1],'r.', alpha=0.25)\n",
    "plt.plot([1],[3],'ko')\n",
    "plt.plot([-5,10],[-5,10],'k')\n",
    "plt.xlabel(\"$x_1$\")\n",
    "plt.ylabel(\"$x_2$\")\n",
    "plt.show()"
   ]
  },
  {
   "cell_type": "markdown",
   "metadata": {},
   "source": [
    "## Estimación de parámetros\n",
    "\n",
    "En la práctica, los parámetros de las clases son desconocidos y deben estimarse a partir de las observaciones:\n",
    "\n",
    "\\begin{align}\n",
    "    \\widehat{\\pi}_k &= \\frac{N_k}{N}\\\\\n",
    "    &\\\\\n",
    "    \\widehat{\\mu}_k &= \\frac{\\sum_{i|y_i=l_k}x_i}{N_k}\\\\\n",
    "    &\\\\    \n",
    "    \\widehat{\\Sigma} &= \\sum_{k=1}^{K}\\sum_{i|y_i=k}(x_i-\\widehat{\\mu}_k)(x_i-\\widehat{\\mu}_k)^{T}/(N-K) \n",
    "\\end{align}"
   ]
  },
  {
   "cell_type": "markdown",
   "metadata": {},
   "source": [
    "## Actividad: "
   ]
  },
  {
   "cell_type": "markdown",
   "metadata": {},
   "source": [
    "<font color=\"red\">Actividad</font>\n",
    "\n",
    "* Explora el conjunto de datos $\\texttt{lda_data.csv}$\n",
    "* Aplica la técnica de **discriminantes lineales** para encontrar las fronteras entre cada pareja de clases (3 clases)"
   ]
  },
  {
   "cell_type": "markdown",
   "metadata": {},
   "source": [
    "**Parcial II: Tarea II - Discriminantes Lineales (LDA) y Discriminantes Cuadráticas (QDA)     \n",
    "Vanessa Martínez Romero - 160300006**"
   ]
  },
  {
   "cell_type": "markdown",
   "metadata": {},
   "source": [
    "## Análisis del primer conjunto de datos\n",
    "**Este primer conjunto de datos posee tres clases las cuales comparten la misma matriz de covarianza.**"
   ]
  },
  {
   "cell_type": "code",
   "execution_count": 9,
   "metadata": {},
   "outputs": [
    {
     "data": {
      "text/html": [
       "<div>\n",
       "<style scoped>\n",
       "    .dataframe tbody tr th:only-of-type {\n",
       "        vertical-align: middle;\n",
       "    }\n",
       "\n",
       "    .dataframe tbody tr th {\n",
       "        vertical-align: top;\n",
       "    }\n",
       "\n",
       "    .dataframe thead th {\n",
       "        text-align: right;\n",
       "    }\n",
       "</style>\n",
       "<table border=\"1\" class=\"dataframe\">\n",
       "  <thead>\n",
       "    <tr style=\"text-align: right;\">\n",
       "      <th></th>\n",
       "      <th>x1</th>\n",
       "      <th>x2</th>\n",
       "      <th>clase</th>\n",
       "    </tr>\n",
       "  </thead>\n",
       "  <tbody>\n",
       "    <tr>\n",
       "      <td>0</td>\n",
       "      <td>1.412897</td>\n",
       "      <td>5.015043</td>\n",
       "      <td>1.0</td>\n",
       "    </tr>\n",
       "    <tr>\n",
       "      <td>1</td>\n",
       "      <td>7.479694</td>\n",
       "      <td>2.721120</td>\n",
       "      <td>1.0</td>\n",
       "    </tr>\n",
       "    <tr>\n",
       "      <td>2</td>\n",
       "      <td>1.063656</td>\n",
       "      <td>6.582988</td>\n",
       "      <td>1.0</td>\n",
       "    </tr>\n",
       "    <tr>\n",
       "      <td>3</td>\n",
       "      <td>8.427866</td>\n",
       "      <td>3.679405</td>\n",
       "      <td>1.0</td>\n",
       "    </tr>\n",
       "    <tr>\n",
       "      <td>4</td>\n",
       "      <td>4.483817</td>\n",
       "      <td>3.732147</td>\n",
       "      <td>1.0</td>\n",
       "    </tr>\n",
       "    <tr>\n",
       "      <td>...</td>\n",
       "      <td>...</td>\n",
       "      <td>...</td>\n",
       "      <td>...</td>\n",
       "    </tr>\n",
       "    <tr>\n",
       "      <td>295</td>\n",
       "      <td>-2.038027</td>\n",
       "      <td>5.492935</td>\n",
       "      <td>3.0</td>\n",
       "    </tr>\n",
       "    <tr>\n",
       "      <td>296</td>\n",
       "      <td>-6.168820</td>\n",
       "      <td>5.785828</td>\n",
       "      <td>3.0</td>\n",
       "    </tr>\n",
       "    <tr>\n",
       "      <td>297</td>\n",
       "      <td>-2.648464</td>\n",
       "      <td>6.327162</td>\n",
       "      <td>3.0</td>\n",
       "    </tr>\n",
       "    <tr>\n",
       "      <td>298</td>\n",
       "      <td>-2.507310</td>\n",
       "      <td>-1.730478</td>\n",
       "      <td>3.0</td>\n",
       "    </tr>\n",
       "    <tr>\n",
       "      <td>299</td>\n",
       "      <td>-3.476435</td>\n",
       "      <td>3.659345</td>\n",
       "      <td>3.0</td>\n",
       "    </tr>\n",
       "  </tbody>\n",
       "</table>\n",
       "<p>300 rows × 3 columns</p>\n",
       "</div>"
      ],
      "text/plain": [
       "           x1        x2  clase\n",
       "0    1.412897  5.015043    1.0\n",
       "1    7.479694  2.721120    1.0\n",
       "2    1.063656  6.582988    1.0\n",
       "3    8.427866  3.679405    1.0\n",
       "4    4.483817  3.732147    1.0\n",
       "..        ...       ...    ...\n",
       "295 -2.038027  5.492935    3.0\n",
       "296 -6.168820  5.785828    3.0\n",
       "297 -2.648464  6.327162    3.0\n",
       "298 -2.507310 -1.730478    3.0\n",
       "299 -3.476435  3.659345    3.0\n",
       "\n",
       "[300 rows x 3 columns]"
      ]
     },
     "execution_count": 9,
     "metadata": {},
     "output_type": "execute_result"
    }
   ],
   "source": [
    "df1 = pd.read_csv(\"lda_data.csv\",sep= \" \",index_col= None, names = ['x1','x2','clase'])\n",
    "df1"
   ]
  },
  {
   "cell_type": "markdown",
   "metadata": {},
   "source": [
    "### Gráfica de disperesión de las clases\n",
    "##### Análisis previo de los datos"
   ]
  },
  {
   "cell_type": "code",
   "execution_count": 10,
   "metadata": {},
   "outputs": [
    {
     "data": {
      "image/png": "[encoded data removed]",
      "text/plain": [
       "<Figure size 432x288 with 1 Axes>"
      ]
     },
     "metadata": {
      "needs_background": "light"
     },
     "output_type": "display_data"
    }
   ],
   "source": [
    "plt.plot(df1[df1.clase == 1].x1, df1[df1.clase == 1].x2, 'g.', alpha=0.25, markersize=12)\n",
    "plt.plot(df1[df1.clase == 2].x1, df1[df1.clase == 2].x2, 'b.', alpha=0.25, markersize=12)\n",
    "plt.plot(df1[df1.clase == 3].x1, df1[df1.clase == 3].x2, 'r.', alpha=0.25, markersize=12)\n",
    "plt.show()"
   ]
  },
  {
   "cell_type": "code",
   "execution_count": 69,
   "metadata": {},
   "outputs": [
    {
     "data": {
      "image/png": "[encoded data removed]",
      "text/plain": [
       "<Figure size 432x288 with 1 Axes>"
      ]
     },
     "metadata": {
      "needs_background": "light"
     },
     "output_type": "display_data"
    }
   ],
   "source": [
    "df1.x1.hist()\n",
    "plt.show()"
   ]
  },
  {
   "cell_type": "markdown",
   "metadata": {},
   "source": [
    "Analizando el histograma del primer vector de características $x1$, vemos que su distribución tiene un comportamiento similar a una distribución normal, con un sesgo ligero."
   ]
  },
  {
   "cell_type": "code",
   "execution_count": 70,
   "metadata": {},
   "outputs": [
    {
     "data": {
      "image/png": "[encoded data removed]",
      "text/plain": [
       "<Figure size 432x288 with 1 Axes>"
      ]
     },
     "metadata": {
      "needs_background": "light"
     },
     "output_type": "display_data"
    }
   ],
   "source": [
    "df1.x2.hist()\n",
    "plt.show()"
   ]
  },
  {
   "cell_type": "markdown",
   "metadata": {},
   "source": [
    "En cuanto al histograma del vector de características $x2$, vemos que el comportamiento de la distribución muestra un sesgo más evidente, ya que los datos se inclinan más hacia el lado derecho."
   ]
  },
  {
   "cell_type": "code",
   "execution_count": 117,
   "metadata": {},
   "outputs": [
    {
     "data": {
      "image/png": "[encoded data removed]",
      "text/plain": [
       "<Figure size 432x288 with 1 Axes>"
      ]
     },
     "metadata": {
      "needs_background": "light"
     },
     "output_type": "display_data"
    }
   ],
   "source": [
    "df1.boxplot(column=['x1', 'x2'])\n",
    "plt.show()"
   ]
  },
  {
   "cell_type": "markdown",
   "metadata": {},
   "source": [
    "El boxplot del primer vector de características muestra solo un dato atípico, mientras que el segundo boxplot no muestra datos atípicos para el segundo vector de características."
   ]
  },
  {
   "cell_type": "markdown",
   "metadata": {},
   "source": [
    "### Estimación de parámetros\n",
    "\\begin{align}\n",
    "    \\widehat{\\pi}_k &= \\frac{N_k}{N}\\\\\n",
    "    &\\\\\n",
    "    \\widehat{\\mu}_k &= \\frac{\\sum_{i|y_i=l_k}x_i}{N_k}\\\\\n",
    "    &\\\\    \n",
    "    \\widehat{\\Sigma} &= \\sum_{k=1}^{K}\\sum_{i|y_i=k}(x_i-\\widehat{\\mu}_k)(x_i-\\widehat{\\mu}_k)^{T}/(N-K) \n",
    "\\end{align}"
   ]
  },
  {
   "cell_type": "code",
   "execution_count": 11,
   "metadata": {},
   "outputs": [
    {
     "data": {
      "text/plain": [
       "[0.3333333333333333, 0.3333333333333333, 0.3333333333333333]"
      ]
     },
     "execution_count": 11,
     "metadata": {},
     "output_type": "execute_result"
    }
   ],
   "source": [
    "#Frecuencia (Pi)\n",
    "#Probabilidad de la clase (probabilidad de que un elemento pertenezca a una clase)\n",
    "def Fecuencia_Pi(datframe):\n",
    "    pi = list()\n",
    "    N = len(datframe)\n",
    "    pi.append(float(len(datframe[datframe.clase == 1]))/N)\n",
    "    pi.append(float(len(datframe[datframe.clase == 2]))/N)\n",
    "    pi.append(float (len(datframe[datframe.clase == 3]))/N)\n",
    "    return pi\n",
    "\n",
    "Pi = Fecuencia_Pi(df1)\n",
    "Pi"
   ]
  },
  {
   "cell_type": "code",
   "execution_count": 12,
   "metadata": {},
   "outputs": [
    {
     "data": {
      "text/plain": [
       "[matrix([[2.95401963],\n",
       "         [3.27375169]]), matrix([[-3.02582593],\n",
       "         [-3.1501613 ]]), matrix([[-3.00966552],\n",
       "         [ 3.32620324]])]"
      ]
     },
     "execution_count": 12,
     "metadata": {},
     "output_type": "execute_result"
    }
   ],
   "source": [
    "#Medias de las clases(mu)\n",
    "def Medias_mu(datframe):\n",
    "    nk1 = len(datframe[datframe.clase==1])\n",
    "    nk2 = len(datframe[datframe.clase==2])\n",
    "    nk3 = len(datframe[datframe.clase==3])\n",
    "\n",
    "\n",
    "    mu = list()\n",
    "    mu.append(np.mat([sum(datframe[datframe.clase == 1].x1) / nk1, sum(datframe[datframe.clase == 1].x2) / nk1]).transpose())\n",
    "    mu.append(np.mat([sum(datframe[datframe.clase == 2].x1) / nk2, sum(datframe[datframe.clase == 2].x2) / nk2]).transpose())\n",
    "    mu.append(np.mat([sum(datframe[datframe.clase == 3].x1) / nk3, sum(datframe[datframe.clase == 3].x2) / nk3]).transpose())\n",
    "    return mu\n",
    "\n",
    "Mu = Medias_mu(df1)\n",
    "Mu"
   ]
  },
  {
   "cell_type": "code",
   "execution_count": 174,
   "metadata": {},
   "outputs": [
    {
     "data": {
      "text/plain": [
       "matrix([[ 5.00922496, -0.71316683],\n",
       "        [-0.71316683,  5.23042949]])"
      ]
     },
     "execution_count": 174,
     "metadata": {},
     "output_type": "execute_result"
    }
   ],
   "source": [
    "#Matriz de covarianza (dispersión de los elementos de la clase)\n",
    "def Matrix_Cov(datframe):\n",
    "    N = len(datframe)\n",
    "    S = 0 #sigma\n",
    "    for k in set(datframe.clase):\n",
    "        #print (\"clases: \", k)\n",
    "        for m in datframe[datframe.clase == k].itertuples():\n",
    "            aux = np.mat([m.x1, m.x2]).transpose()\n",
    "            S += (aux - Mu[int(k-1)])*(aux - Mu[int(k-1)]).transpose()\n",
    "    S = S /(N-len(set(df1.clase)))\n",
    "    return S\n",
    "\n",
    "M_Cov = Matrix_Cov(df1)\n",
    "M_Cov"
   ]
  },
  {
   "cell_type": "markdown",
   "metadata": {},
   "source": [
    "### Definiendo las fronteras para cada clase"
   ]
  },
  {
   "cell_type": "markdown",
   "metadata": {},
   "source": [
    "Tomando esta última, podemos comparar las probabilidades de parejas de clases tomando el logaritmo de su razón:\n",
    "\n",
    "$$\\color{blue}{\\log{\\frac{P(Y=l_i \\;|\\; X=x)}{P(Y=l_j \\;|\\; X=x)}} = \\log{\\frac{\\pi_i}{\\pi_j}}-\\frac{1}{2}(\\mu_i+\\mu_j)^{T}\\Sigma^{-1}(\\mu_i-\\mu_j)+x^{T}\\Sigma^{-1}(\\mu_i-\\mu_j)}$$\n",
    "\n",
    "Los puntos del espacio en los que esta expresión es cero representan las fronteras entre clases, **las cuales son lineales para este caso, ya que las tres clases comparten la misma matriz de covarianza**.\n",
    "\n",
    "\n",
    "Para los datos que construimos más arriba, la frontera entre las dos clases está dada por la ecuación:\n",
    "\n",
    "\\begin{align}\n",
    "      \\log{\\frac{\\pi_i}{\\pi_j}}-\\frac{1}{2}(\\mu_i+\\mu_j)^{T}\\Sigma^{-1}(\\mu_i-\\mu_j)+x^{T}\\Sigma^{-1}(\\mu_i-\\mu_j) &=0\\\\\n",
    "\\end{align}\n",
    "\n",
    "Habiendo estimado los parámetros necesarios (Pi, Mu y la matriz de covarianza) podemos evaluar la fórmula anterior de la siguiente manera:    \n",
    "\n",
    "A = $log{\\frac{\\pi_i}{\\pi_j}}$ ; el resultado será un valor escalar.\n",
    "\n",
    "B = $-\\frac{1}{2}(\\mu_i+\\mu_j)^{T}\\Sigma^{-1}(\\mu_i-\\mu_j)$ ; el resultado será un valor escalar.\n",
    "\n",
    "C = $x^{T}\\Sigma^{-1}(\\mu_i-\\mu_j)$ ; el resultado será un vector.\n",
    "\n",
    "**Nota: para la parte C, no tomaremos en cuenta la $x^T$, ya que será nuestra incógnita.**"
   ]
  },
  {
   "cell_type": "markdown",
   "metadata": {},
   "source": [
    "Fórmula:\n",
    "\n",
    "\\begin{align}\n",
    "    \\text{A}+\\text{B}+x^{T}\\text{C}=0\n",
    "\\end{align}\n",
    "\n",
    ">Tomando\n",
    "\\begin{align}\n",
    "    x^{T}=[\\begin{array}{cc} x_1 & x_2 \\end{array}]\n",
    "\\end{align}\n",
    "y\n",
    "\\begin{align}\n",
    "    \\text{C_1}=[\\begin{array}{c} C1_1 \\\\ C1_2 \\end{array}]\\\\\\\\\n",
    "\\end{align}\n",
    "se obtiene:\n",
    "\\begin{align}\n",
    "    \\text{A}+\\text{B}+[\\begin{array}{cc} x_1 & x_2 \\end{array}][\\begin{array}{c} C_1 \\\\ C_2 \\end{array}]\\\\\\\\\n",
    "    \\text{A}+\\text{B}+C1_1x_1+C2_2x2\n",
    "\\end{align}\n",
    "\n",
    "\n",
    ">Despejando $x_2$\n",
    "\\begin{align}\n",
    "    x_2=\\frac{\\text{A}+\\text{B}+C_1x_1}{-C1_2}\n",
    "\\end{align}"
   ]
  },
  {
   "cell_type": "markdown",
   "metadata": {},
   "source": [
    "**Hallamos la frontera entre las clases 1 y 2**"
   ]
  },
  {
   "cell_type": "code",
   "execution_count": 142,
   "metadata": {},
   "outputs": [
    {
     "data": {
      "text/plain": [
       "0.0"
      ]
     },
     "execution_count": 142,
     "metadata": {},
     "output_type": "execute_result"
    }
   ],
   "source": [
    "def A(PI, k1, k2):\n",
    "    return np.log(PI[k1-1] / PI[k2-1])\n",
    "A(Pi,1,2)"
   ]
  },
  {
   "cell_type": "code",
   "execution_count": 154,
   "metadata": {},
   "outputs": [
    {
     "data": {
      "text/plain": [
       "matrix([[-0.13836384]])"
      ]
     },
     "execution_count": 154,
     "metadata": {},
     "output_type": "execute_result"
    }
   ],
   "source": [
    "def B(MU, Sigma, k1, k2):\n",
    "    return - 1/2 * (MU[k1-1] + MU[k2-1]).transpose() * np.linalg.inv(Sigma) *  (MU[k1-1] - MU[k2-1])\n",
    "B(Mu, M_Cov,1,2)"
   ]
  },
  {
   "cell_type": "code",
   "execution_count": 176,
   "metadata": {},
   "outputs": [
    {
     "data": {
      "text/plain": [
       "matrix([[1.3957175 ],\n",
       "        [1.41848627]])"
      ]
     },
     "execution_count": 176,
     "metadata": {},
     "output_type": "execute_result"
    }
   ],
   "source": [
    "def C(MU, Sigma, k1, k2):\n",
    "    return np.linalg.inv(Sigma)*(MU[k1-1]- MU[k2-1])\n",
    "C(Mu, M_Cov, 1, 2)"
   ]
  },
  {
   "cell_type": "code",
   "execution_count": 189,
   "metadata": {},
   "outputs": [
    {
     "data": {
      "text/plain": [
       "-1.941428743206197"
      ]
     },
     "execution_count": 189,
     "metadata": {},
     "output_type": "execute_result"
    }
   ],
   "source": [
    "#Función para obtener el valor de x2\n",
    "def General(x1, k1 , k2):\n",
    "    return ((A(Pi,k1,k2) + B(Mu, M_Cov,k1,k2) + C(Mu, M_Cov,k1,k2)[0]*x1)/-C(Mu, M_Cov,k1,k2)[1])[0,0]\n",
    "x2_12 = General(2, 1, 2)\n",
    "x2_12"
   ]
  },
  {
   "cell_type": "markdown",
   "metadata": {},
   "source": [
    "**Hallamos la frontera entre las clases 1 y 3**"
   ]
  },
  {
   "cell_type": "code",
   "execution_count": 178,
   "metadata": {},
   "outputs": [
    {
     "data": {
      "text/plain": [
       "0.0"
      ]
     },
     "execution_count": 178,
     "metadata": {},
     "output_type": "execute_result"
    }
   ],
   "source": [
    "A(Pi,1,3)"
   ]
  },
  {
   "cell_type": "code",
   "execution_count": 179,
   "metadata": {},
   "outputs": [
    {
     "data": {
      "text/plain": [
       "matrix([[-0.4788016]])"
      ]
     },
     "execution_count": 179,
     "metadata": {},
     "output_type": "execute_result"
    }
   ],
   "source": [
    "B(Mu, M_Cov,1,3)"
   ]
  },
  {
   "cell_type": "code",
   "execution_count": 180,
   "metadata": {},
   "outputs": [
    {
     "data": {
      "text/plain": [
       "matrix([[1.3957175 ],\n",
       "        [1.41848627]])"
      ]
     },
     "execution_count": 180,
     "metadata": {},
     "output_type": "execute_result"
    }
   ],
   "source": [
    "C(Mu, M_Cov, 1, 2)"
   ]
  },
  {
   "cell_type": "code",
   "execution_count": 204,
   "metadata": {},
   "outputs": [
    {
     "data": {
      "text/plain": [
       "-12.532497089801321"
      ]
     },
     "execution_count": 204,
     "metadata": {},
     "output_type": "execute_result"
    }
   ],
   "source": [
    "x2_13 = General(2,1,3)\n",
    "x2_13"
   ]
  },
  {
   "cell_type": "markdown",
   "metadata": {},
   "source": [
    "**Hallamos la frontera entre las clases 2 y 3**"
   ]
  },
  {
   "cell_type": "code",
   "execution_count": 183,
   "metadata": {},
   "outputs": [
    {
     "data": {
      "text/plain": [
       "0.0"
      ]
     },
     "execution_count": 183,
     "metadata": {},
     "output_type": "execute_result"
    }
   ],
   "source": [
    "A(Pi,2,3)"
   ]
  },
  {
   "cell_type": "code",
   "execution_count": 184,
   "metadata": {},
   "outputs": [
    {
     "data": {
      "text/plain": [
       "matrix([[-0.44125662]])"
      ]
     },
     "execution_count": 184,
     "metadata": {},
     "output_type": "execute_result"
    }
   ],
   "source": [
    "B(Mu, M_Cov,2,3)"
   ]
  },
  {
   "cell_type": "code",
   "execution_count": 185,
   "metadata": {},
   "outputs": [
    {
     "data": {
      "text/plain": [
       "matrix([[-0.18306448],\n",
       "        [-1.2631697 ]])"
      ]
     },
     "execution_count": 185,
     "metadata": {},
     "output_type": "execute_result"
    }
   ],
   "source": [
    "C(Mu, M_Cov, 2, 3)"
   ]
  },
  {
   "cell_type": "code",
   "execution_count": 205,
   "metadata": {},
   "outputs": [
    {
     "data": {
      "text/plain": [
       "-0.6391742719527947"
      ]
     },
     "execution_count": 205,
     "metadata": {},
     "output_type": "execute_result"
    }
   ],
   "source": [
    "x2_23 = General(2,2,3)\n",
    "x2_23"
   ]
  },
  {
   "cell_type": "markdown",
   "metadata": {},
   "source": [
    "### Gráfica de dispersión de las clases con las fronteras de cada una"
   ]
  },
  {
   "cell_type": "code",
   "execution_count": 202,
   "metadata": {},
   "outputs": [
    {
     "data": {
      "image/png": "[encoded data removed]",
      "text/plain": [
       "<Figure size 432x288 with 1 Axes>"
      ]
     },
     "metadata": {
      "needs_background": "light"
     },
     "output_type": "display_data"
    }
   ],
   "source": [
    "plt.plot(df1[df1.clase == 1].x1, df1[df1.clase == 1].x2, 'g.', alpha=0.25, markersize=12)\n",
    "plt.plot(df1[df1.clase == 2].x1, df1[df1.clase == 2].x2, 'b.', alpha=0.25, markersize=12)\n",
    "plt.plot(df1[df1.clase == 3].x1, df1[df1.clase == 3].x2, 'r.', alpha=0.25, markersize=12)\n",
    "plt.plot([0.4,10], [General(0.4, 1 , 2), General(10, 1 , 2)], 'm')\n",
    "plt.plot([-1, 0.4], [General(-1, 1 , 3), General(0.4, 1 , 3)], 'c')\n",
    "plt.plot([-10, 0.4], [General(-10, 2 , 3), General(0.4, 2 , 3)], 'k')\n",
    "plt.show()"
   ]
  },
  {
   "cell_type": "markdown",
   "metadata": {},
   "source": [
    "## Análisis del segundo conjunto de datos\n",
    "**Este conjunto de datos posee dos clases las cuales tienen una matriz de covarianza diferente.**"
   ]
  },
  {
   "cell_type": "code",
   "execution_count": 50,
   "metadata": {},
   "outputs": [
    {
     "data": {
      "text/html": [
       "<div>\n",
       "<style scoped>\n",
       "    .dataframe tbody tr th:only-of-type {\n",
       "        vertical-align: middle;\n",
       "    }\n",
       "\n",
       "    .dataframe tbody tr th {\n",
       "        vertical-align: top;\n",
       "    }\n",
       "\n",
       "    .dataframe thead th {\n",
       "        text-align: right;\n",
       "    }\n",
       "</style>\n",
       "<table border=\"1\" class=\"dataframe\">\n",
       "  <thead>\n",
       "    <tr style=\"text-align: right;\">\n",
       "      <th></th>\n",
       "      <th>x1</th>\n",
       "      <th>x2</th>\n",
       "      <th>clase</th>\n",
       "    </tr>\n",
       "  </thead>\n",
       "  <tbody>\n",
       "    <tr>\n",
       "      <td>0</td>\n",
       "      <td>6.624098</td>\n",
       "      <td>0.738611</td>\n",
       "      <td>2</td>\n",
       "    </tr>\n",
       "    <tr>\n",
       "      <td>1</td>\n",
       "      <td>0.851395</td>\n",
       "      <td>3.488259</td>\n",
       "      <td>1</td>\n",
       "    </tr>\n",
       "    <tr>\n",
       "      <td>2</td>\n",
       "      <td>5.379887</td>\n",
       "      <td>2.717840</td>\n",
       "      <td>2</td>\n",
       "    </tr>\n",
       "    <tr>\n",
       "      <td>3</td>\n",
       "      <td>-2.643119</td>\n",
       "      <td>6.866325</td>\n",
       "      <td>1</td>\n",
       "    </tr>\n",
       "    <tr>\n",
       "      <td>4</td>\n",
       "      <td>-2.328890</td>\n",
       "      <td>4.786413</td>\n",
       "      <td>1</td>\n",
       "    </tr>\n",
       "    <tr>\n",
       "      <td>...</td>\n",
       "      <td>...</td>\n",
       "      <td>...</td>\n",
       "      <td>...</td>\n",
       "    </tr>\n",
       "    <tr>\n",
       "      <td>195</td>\n",
       "      <td>5.417866</td>\n",
       "      <td>-0.944674</td>\n",
       "      <td>2</td>\n",
       "    </tr>\n",
       "    <tr>\n",
       "      <td>196</td>\n",
       "      <td>2.121435</td>\n",
       "      <td>5.364265</td>\n",
       "      <td>1</td>\n",
       "    </tr>\n",
       "    <tr>\n",
       "      <td>197</td>\n",
       "      <td>3.964237</td>\n",
       "      <td>0.779274</td>\n",
       "      <td>2</td>\n",
       "    </tr>\n",
       "    <tr>\n",
       "      <td>198</td>\n",
       "      <td>3.233762</td>\n",
       "      <td>-3.388377</td>\n",
       "      <td>2</td>\n",
       "    </tr>\n",
       "    <tr>\n",
       "      <td>199</td>\n",
       "      <td>-2.458064</td>\n",
       "      <td>5.480671</td>\n",
       "      <td>1</td>\n",
       "    </tr>\n",
       "  </tbody>\n",
       "</table>\n",
       "<p>200 rows × 3 columns</p>\n",
       "</div>"
      ],
      "text/plain": [
       "           x1        x2  clase\n",
       "0    6.624098  0.738611      2\n",
       "1    0.851395  3.488259      1\n",
       "2    5.379887  2.717840      2\n",
       "3   -2.643119  6.866325      1\n",
       "4   -2.328890  4.786413      1\n",
       "..        ...       ...    ...\n",
       "195  5.417866 -0.944674      2\n",
       "196  2.121435  5.364265      1\n",
       "197  3.964237  0.779274      2\n",
       "198  3.233762 -3.388377      2\n",
       "199 -2.458064  5.480671      1\n",
       "\n",
       "[200 rows x 3 columns]"
      ]
     },
     "execution_count": 50,
     "metadata": {},
     "output_type": "execute_result"
    }
   ],
   "source": [
    "df2 = pd.read_csv(\"df_disc_2.csv\", usecols=[1, 2, 3], names = ['x1','x2','clase'], dtype = {\"x1\": float, \"x2\": float, \"clase\": int}, skiprows=1)\n",
    "#df2 = df2.drop(df2.index[0])\n",
    "df2"
   ]
  },
  {
   "cell_type": "markdown",
   "metadata": {},
   "source": [
    "### Gráfica de disperesión de las clases\n",
    "##### Análisis previo de los datos"
   ]
  },
  {
   "cell_type": "code",
   "execution_count": 51,
   "metadata": {},
   "outputs": [
    {
     "data": {
      "image/png": "[encoded data removed]",
      "text/plain": [
       "<Figure size 432x288 with 1 Axes>"
      ]
     },
     "metadata": {
      "needs_background": "light"
     },
     "output_type": "display_data"
    }
   ],
   "source": [
    "plt.plot(df2[df2.clase == 1].x1, df2[df2.clase == 1].x2, 'g.', alpha=0.25, markersize=12)\n",
    "plt.plot(df2[df2.clase == 2].x1, df2[df2.clase == 2].x2, 'b.', alpha=0.25, markersize=12)\n",
    "plt.show()"
   ]
  },
  {
   "cell_type": "code",
   "execution_count": 71,
   "metadata": {},
   "outputs": [
    {
     "data": {
      "image/png": "[encoded data removed]",
      "text/plain": [
       "<Figure size 432x288 with 1 Axes>"
      ]
     },
     "metadata": {
      "needs_background": "light"
     },
     "output_type": "display_data"
    }
   ],
   "source": [
    "df2.x1.hist()\n",
    "plt.show()"
   ]
  },
  {
   "cell_type": "markdown",
   "metadata": {},
   "source": [
    "El histograma para el vector de características $x1$ muestra una distribución un sesgo evidente, debido a que los datos aparecen más inclinados hacia el lado derecho de la gráfica."
   ]
  },
  {
   "cell_type": "code",
   "execution_count": 72,
   "metadata": {},
   "outputs": [
    {
     "data": {
      "image/png": "[encoded data removed]",
      "text/plain": [
       "<Figure size 432x288 with 1 Axes>"
      ]
     },
     "metadata": {
      "needs_background": "light"
     },
     "output_type": "display_data"
    }
   ],
   "source": [
    "df2.x2.hist()\n",
    "plt.show()"
   ]
  },
  {
   "cell_type": "markdown",
   "metadata": {},
   "source": [
    "Para el histograma del vector $x2$, muestra una distribución que presenta un sesgo notorio, debido a que los datos tienden más hacia un lado de la gráfica en lugar de estar centrados."
   ]
  },
  {
   "cell_type": "code",
   "execution_count": 116,
   "metadata": {},
   "outputs": [
    {
     "data": {
      "image/png": "[encoded data removed]",
      "text/plain": [
       "<Figure size 432x288 with 1 Axes>"
      ]
     },
     "metadata": {
      "needs_background": "light"
     },
     "output_type": "display_data"
    }
   ],
   "source": [
    "df2.boxplot(column=['x1', 'x2'])\n",
    "plt.show()"
   ]
  },
  {
   "cell_type": "markdown",
   "metadata": {},
   "source": [
    "Los boxplots para ambos vectores de características muestran que hay pocos valores atípicos presentes en ellos."
   ]
  },
  {
   "cell_type": "markdown",
   "metadata": {},
   "source": [
    "### Estimación de parámetros para el segundo conjunto de datos\n",
    "\n",
    "\\begin{align}\n",
    "    \\widehat{\\pi}_k &= \\frac{N_k}{N}\\\\\n",
    "    &\\\\\n",
    "    \\widehat{\\mu}_k &= \\frac{\\sum_{i|y_i=l_k}x_i}{N_k}\\\\\n",
    "    &\\\\    \n",
    "    \\widehat{\\Sigma} &= \\sum_{k=1}^{K}\\sum_{i|y_i=k}(x_i-\\widehat{\\mu}_k)(x_i-\\widehat{\\mu}_k)^{T}/(N-K) \n",
    "\\end{align}"
   ]
  },
  {
   "cell_type": "code",
   "execution_count": 52,
   "metadata": {},
   "outputs": [
    {
     "data": {
      "text/plain": [
       "[0.5, 0.5]"
      ]
     },
     "execution_count": 52,
     "metadata": {},
     "output_type": "execute_result"
    }
   ],
   "source": [
    "#Frecuencia (Pi)\n",
    "#Probabilidad de la clase (probabilidad de que un elemento pertenezca a una clase)\n",
    "def Fecuencia_Pi2(datframe):\n",
    "    pi = list()\n",
    "    N = len(datframe)\n",
    "    pi.append(float(len(datframe[datframe.clase == 1]))/N)\n",
    "    pi.append(float(len(datframe[datframe.clase == 1]))/N)\n",
    "    return pi\n",
    "\n",
    "Pi2 = Fecuencia_Pi2(df2)\n",
    "Pi2"
   ]
  },
  {
   "cell_type": "code",
   "execution_count": 84,
   "metadata": {},
   "outputs": [
    {
     "data": {
      "text/plain": [
       "[matrix([[-0.2163616 ],\n",
       "         [ 5.39075695]]), matrix([[5.12481946],\n",
       "         [0.28303641]])]"
      ]
     },
     "execution_count": 84,
     "metadata": {},
     "output_type": "execute_result"
    }
   ],
   "source": [
    "#Medias de las clases\n",
    "def Medias_mu2(datframe):\n",
    "    nk1 = len(datframe[datframe.clase== 1])\n",
    "    nk2 = len(datframe[datframe.clase== 2])\n",
    " \n",
    "    mu = list()\n",
    "    mu.append(np.mat([sum(datframe[datframe.clase == 1].x1) / nk1, sum(datframe[datframe.clase == 1].x2) / nk1]).transpose())\n",
    "    mu.append(np.mat([sum(datframe[datframe.clase == 2].x1) / nk2, sum(datframe[datframe.clase == 2].x2) / nk2]).transpose())\n",
    "    return mu\n",
    "\n",
    "Mu2 = Medias_mu2(df2)\n",
    "Mu2"
   ]
  },
  {
   "cell_type": "code",
   "execution_count": 220,
   "metadata": {},
   "outputs": [
    {
     "data": {
      "text/plain": [
       "[matrix([[10.22449297,  1.22678522],\n",
       "         [ 1.22678522,  4.76920278]]), matrix([[ 4.40129422,  1.62339541],\n",
       "         [ 1.62339541, 13.6891447 ]])]"
      ]
     },
     "execution_count": 220,
     "metadata": {},
     "output_type": "execute_result"
    }
   ],
   "source": [
    "#Matriz de covarianza \n",
    "def Matrix_Cov2(datframe):\n",
    "    s = list()\n",
    "    N = len(datframe)\n",
    "    for k in set(datframe.clase):\n",
    "        S = 0 #sigma (valores de la matriz de covarianza)\n",
    "        for m in datframe[datframe.clase == k].itertuples():\n",
    "            aux = np.mat([m.x1, m.x2]).transpose()\n",
    "            S += (aux - Mu2[int(k-1)])*(aux - Mu2[int(k-1)]).transpose()\n",
    "        s.append(S/(len(df2[df2.clase == k])))\n",
    "    return s\n",
    "\n",
    "M_Cov2 = Matrix_Cov2(df2)\n",
    "M_Cov2"
   ]
  },
  {
   "cell_type": "code",
   "execution_count": 221,
   "metadata": {},
   "outputs": [
    {
     "data": {
      "text/plain": [
       "matrix([[10.22449297,  1.22678522],\n",
       "        [ 1.22678522,  4.76920278]])"
      ]
     },
     "execution_count": 221,
     "metadata": {},
     "output_type": "execute_result"
    }
   ],
   "source": [
    "#Matriz de covarianza de la primera clase\n",
    "M_Cov2[0]"
   ]
  },
  {
   "cell_type": "code",
   "execution_count": 222,
   "metadata": {},
   "outputs": [
    {
     "data": {
      "text/plain": [
       "matrix([[ 4.40129422,  1.62339541],\n",
       "        [ 1.62339541, 13.6891447 ]])"
      ]
     },
     "execution_count": 222,
     "metadata": {},
     "output_type": "execute_result"
    }
   ],
   "source": [
    "#Matriz de covarianza de la segunda clase \n",
    "M_Cov2[1]"
   ]
  },
  {
   "cell_type": "markdown",
   "metadata": {},
   "source": [
    "### Definiendo las fronteras para cada clase"
   ]
  },
  {
   "cell_type": "markdown",
   "metadata": {},
   "source": [
    "$ln(\\frac{\\pi_i|\\Sigma_i|}{\\pi_j|\\Sigma_j|})+\\frac{1}{2}[-x^T\\Sigma_i^{-1}x+2x^T\\Sigma_i^{-1}\\mu_i-\\mu_i^T\\Sigma_i^{-1}\\mu_i+x^T\\Sigma_j^{-1}x-2x^T\\Sigma_j^{-1}\\mu_j+\\mu_j^T\\Sigma_j^{-1}\\mu_j]$                   \n",
    "\n",
    "\n",
    "\n",
    "A partir de la fórmula anterior podemos definir las fronteras para cada clase. Para esto evaluaremos la fórmula por partes.                   \n",
    "**Nota:                                           \n",
    "Dejaremos fuera todas las $x$ y $x^T$ ya que $x$ como tal será la incógnita.**\n",
    "\n",
    "\n",
    "Divideremos la ecuación de la siguiente forma:  \n",
    "\n",
    "$a$ = $ln(\\frac{\\pi_i|\\Sigma_i|}{\\pi_j|\\Sigma_j|})$ ; el resultado es una escalar.\n",
    "\n",
    "$b$ = [$-\\Sigma_i^{-1}$]$\\frac{1}{2}$ ; el resultado es una matriz. \n",
    "\n",
    "$c$ = [$2\\Sigma_i^{-1}\\mu_i$]$\\frac{1}{2}$\n",
    "\n",
    "$d$ = [$-\\mu_i^T\\Sigma_i^{-1}\\mu_i$]$\\frac{1}{2}$ ; el resultado es una escalar.\n",
    "\n",
    "$e$ = [$\\Sigma_j^{-1}$]$\\frac{1}{2}$\n",
    "\n",
    "$f$ = [$-2\\Sigma_j^{-1}\\mu_j$]$\\frac{1}{2}$\n",
    "\n",
    "$g$ = [$\\mu_j^T\\Sigma_j^{-1}\\mu_j$]$\\frac{1}{2}$\n"
   ]
  },
  {
   "cell_type": "markdown",
   "metadata": {},
   "source": [
    "$ln(\\frac{\\pi_i|\\Sigma_i|}{\\pi_j|\\Sigma_j|})$"
   ]
  },
  {
   "cell_type": "code",
   "execution_count": 89,
   "metadata": {},
   "outputs": [
    {
     "data": {
      "text/plain": [
       "7.9093901247993745"
      ]
     },
     "execution_count": 89,
     "metadata": {},
     "output_type": "execute_result"
    }
   ],
   "source": [
    "f0 =  np.log(Pi2[0] * np.linalg.det(M_Cov2[0]) / Pi2[1] * np.linalg.det(M_Cov2[1]))\n",
    "f0[0]"
   ]
  },
  {
   "cell_type": "markdown",
   "metadata": {},
   "source": [
    "[$-\\Sigma_i^{-1}$]$\\frac{1}{2}$"
   ]
  },
  {
   "cell_type": "code",
   "execution_count": 227,
   "metadata": {},
   "outputs": [
    {
     "data": {
      "text/plain": [
       "matrix([[-0.05045955,  0.01297974],\n",
       "        [ 0.01297974, -0.10817811]])"
      ]
     },
     "execution_count": 227,
     "metadata": {},
     "output_type": "execute_result"
    }
   ],
   "source": [
    "f1 = -(np.linalg.inv(M_Cov2[0]))*(1/2)\n",
    "f1"
   ]
  },
  {
   "cell_type": "markdown",
   "metadata": {},
   "source": [
    "[$2\\Sigma_i^{-1}\\mu_i$]$\\frac{1}{2}$"
   ]
  },
  {
   "cell_type": "code",
   "execution_count": 228,
   "metadata": {},
   "outputs": [
    {
     "data": {
      "text/plain": [
       "matrix([[-0.16177632],\n",
       "        [ 1.17194047]])"
      ]
     },
     "execution_count": 228,
     "metadata": {},
     "output_type": "execute_result"
    }
   ],
   "source": [
    "f2 = np.linalg.inv(M_Cov2[0]) * Mu2[0]\n",
    "f2"
   ]
  },
  {
   "cell_type": "markdown",
   "metadata": {},
   "source": [
    "[$-\\mu_i^T\\Sigma_i^{-1}\\mu_i$]$\\frac{1}{2}$"
   ]
  },
  {
   "cell_type": "code",
   "execution_count": 217,
   "metadata": {},
   "outputs": [
    {
     "data": {
      "text/plain": [
       "-3.176324207311043"
      ]
     },
     "execution_count": 217,
     "metadata": {},
     "output_type": "execute_result"
    }
   ],
   "source": [
    "f3 = ((-Mu2[0].transpose() * np.linalg.inv(M_Cov2[0]) * Mu2[0])*(1/2))[0,0]\n",
    "f3"
   ]
  },
  {
   "cell_type": "markdown",
   "metadata": {},
   "source": [
    "[$\\Sigma_j^{-1}$]$\\frac{1}{2}$"
   ]
  },
  {
   "cell_type": "code",
   "execution_count": 229,
   "metadata": {},
   "outputs": [
    {
     "data": {
      "text/plain": [
       "matrix([[ 0.11879939, -0.01408842],\n",
       "        [-0.01408842,  0.03819604]])"
      ]
     },
     "execution_count": 229,
     "metadata": {},
     "output_type": "execute_result"
    }
   ],
   "source": [
    "f4 = (np.linalg.inv(M_Cov2[1]))*(1/2)\n",
    "f4"
   ]
  },
  {
   "cell_type": "markdown",
   "metadata": {},
   "source": [
    "[$-2\\Sigma_j^{-1}\\mu_j$]$\\frac{1}{2}$"
   ]
  },
  {
   "cell_type": "code",
   "execution_count": 232,
   "metadata": {},
   "outputs": [
    {
     "data": {
      "text/plain": [
       "matrix([[-1.20967579],\n",
       "        [ 0.12277945]])"
      ]
     },
     "execution_count": 232,
     "metadata": {},
     "output_type": "execute_result"
    }
   ],
   "source": [
    "f5 = -(np.linalg.inv(M_Cov2[1]) * Mu2[1])\n",
    "f5"
   ]
  },
  {
   "cell_type": "markdown",
   "metadata": {},
   "source": [
    "[$\\mu_j^T\\Sigma_j^{-1}\\mu_j$]$\\frac{1}{2}$"
   ]
  },
  {
   "cell_type": "code",
   "execution_count": 235,
   "metadata": {},
   "outputs": [
    {
     "data": {
      "text/plain": [
       "3.0823094886512266"
      ]
     },
     "execution_count": 235,
     "metadata": {},
     "output_type": "execute_result"
    }
   ],
   "source": [
    "f6 = ((Mu2[1].transpose() * np.linalg.inv(M_Cov2[1]) * Mu2[1])*(1/2))[0,0]\n",
    "f6"
   ]
  },
  {
   "cell_type": "markdown",
   "metadata": {},
   "source": [
    "Una vez ya obtenidos los componentes de la fórmula para hallar la región, procedemos a unirlos de la siguiente forma: \n",
    "\n",
    "\n",
    "Ecuación resumida:  \n",
    "\n",
    "\\begin{align}\n",
    "    \\text{a}+x^{T}\\text{b}x+x^{T}\\text{c}+\\text{d}+x^{T}\\text{e}x+x^{T}\\text{f}+\\text{g}=0\n",
    "\\end{align}\n",
    "\n",
    ">Tomando\n",
    "\\begin{align}\n",
    "    x=[\\begin{array}{cc} x_1 \\\\ x_2 \\end{array}]\\\\\\\\\n",
    "    x^{T}=[\\begin{array}{cc} x_1 & x_2 \\end{array}]\\\\\\\\\n",
    "    \\text{B}=[\\begin{array}{cc} \\text{b}{11} & \\text{b}{12} \\\\ \\text{b}{21} & \\text{b}{22} \\end{array}]\\\\\\\\\n",
    "    \\text{C}=[\\begin{array}{c} \\text{c}{1} \\\\ \\text{c}{2} \\end{array}]\\\\\\\\\n",
    "    \\text{E}=[\\begin{array}{cc} \\text{e}{11} & \\text{e}{12} \\\\ \\text{e}{21} & \\text{e}{22} \\end{array}]\\\\\\\\\n",
    "    \\text{F}=[\\begin{array}{c} \\text{f}{1} \\\\ \\text{f}{2} \\end{array}]\\\\\\\\\n",
    "\\end{align}\n"
   ]
  },
  {
   "cell_type": "markdown",
   "metadata": {},
   "source": [
    ">sustituyendo y resolviendo se obtiene:\n",
    "\\begin{align}\n",
    "    (\\text{a})+\n",
    "    (\\text{b}_{22})x_2^2+\n",
    "    (\\text{b}{21}x_1+\\text{b}{12}x_1)x_2+\n",
    "    (\\text{b}_{11}x_1^2+\\text{c}_1x_1)+\n",
    "    (\\text{c}_2)x_2+(\\text{d})+\n",
    "    (\\text{e}_{22})x_2^2+\n",
    "    (\\text{e}{21}x_1+\\text{e}{12}x_1)x_2+\n",
    "    (\\text{e}_{11}x_1^2+\\text{f}_1x_1)+\n",
    "    (\\text{f}_2)x_2+\n",
    "    (\\text{g})\\\\\\\\\n",
    "    (\\text{b}_{22})x_2^2+\n",
    "    (\\text{e}_{22})x_2^2+\n",
    "    (\\text{b}{21}x_1+\\text{b}{12}x_1)x_2+\n",
    "    (\\text{e}{21}x_1+\\text{e}{12}x_1)x_2+\n",
    "    (\\text{f}_2)x_2+\n",
    "    (\\text{c}_2)x_2+\n",
    "    (\\text{a})+\n",
    "    (\\text{b}_{21}x_1)+\n",
    "    (\\text{b}_{11}x_1^2+\\text{c}_1x_1)+\n",
    "    (\\text{d})+\n",
    "    (\\text{e}_{11}x_1^2+\\text{f}_1x_1)+\n",
    "    (\\text{g})\\\\\\\\\n",
    "    (\\text{b}{22}+\\text{e}{22})x_2^2+\n",
    "    (\\text{b}{12}x_1+\\text{b}{12}x_1+\\text{e}{21}x_1+\\text{e}{12}x_1+\\text{f}_2+\\text{c}_2)x_2+\n",
    "    (\\text{a}+\\text{b}{11}x_1^2+\\text{c}_1x_1+\\text{d}+\\text{e}{11}x_1^2+\\text{f}_1x_1+\\text{g})\n",
    "\\end{align}\n",
    "\n",
    ">despejando en términos de $x_2$:\n",
    "\\begin{align}\n",
    "    \\text{BE_2} = [\\begin{array}{cc} \\text{b}{22} + \\text{e}{22} \\end{array}]\\\\\\\\\n",
    "    \\text{BE_21} = [\\begin{array}{cc} \\text{b}{21}\\text{X}{1} + \\text{b}{12}\\text{X}{1} + \\text{e}{21}\\text{X}{1} + \\text{e}{12}\\text{X}{1} + \\text{c}{2} + \\text{f}{2}\\end{array}]\\\\\\\\\n",
    "    \\text{AB_2} = [\\begin{array}{cc} \\text{a} + \\text{b}{11}\\text{X}^2{1} + \\text{c}{1}\\text{X}{1} + \\text{d} + \\text{e}{11}\\text{X}^2{1} + \\text{f}{1}\\text{X}{1} + \\text{g}\\end{array}]\\\\\\\\\n",
    "    \\text{BE_2}X_2^2 + \\text{BE_21}X_2 + \\text{AB_2}\n",
    "\\end{align}"
   ]
  },
  {
   "cell_type": "code",
   "execution_count": 237,
   "metadata": {},
   "outputs": [
    {
     "data": {
      "text/plain": [
       "-0.06998207675201056"
      ]
     },
     "execution_count": 237,
     "metadata": {},
     "output_type": "execute_result"
    }
   ],
   "source": [
    "#BE_2 = b22 + e22\n",
    "BE_2 = f1[1, 1] + f4[1, 1]\n",
    "BE_2"
   ]
  },
  {
   "cell_type": "code",
   "execution_count": 238,
   "metadata": {},
   "outputs": [
    {
     "data": {
      "text/plain": [
       "1.292502578268491"
      ]
     },
     "execution_count": 238,
     "metadata": {},
     "output_type": "execute_result"
    }
   ],
   "source": [
    "BE_21 = lambda x1: (f1[1, 0] * x1 + f1[0, 1] * x1 + f4[1, 0] * x1 + f4[0, 1] * x1 + f2[1] + f5[1])[0, 0]\n",
    "BE_21(1)"
   ]
  },
  {
   "cell_type": "code",
   "execution_count": 239,
   "metadata": {},
   "outputs": [
    {
     "data": {
      "text/plain": [
       "7.840738313448648"
      ]
     },
     "execution_count": 239,
     "metadata": {},
     "output_type": "execute_result"
    }
   ],
   "source": [
    "AB_2 = lambda x1: (f0 + f1[0, 0] * x1**2 + f2[0] * x1 + f3 + f4[0, 0] * x1**2 + f4[0] * x1 + f6)[0, 0]\n",
    "AB_2(1)"
   ]
  },
  {
   "cell_type": "markdown",
   "metadata": {},
   "source": [
    ">Hallando las soluciones por medio de la fórmula general:\n",
    "\\begin{align}\n",
    "    x_2=\\frac{-\\text{BE_21}\\pm\\sqrt{\\text{BE_21}^2-4(\\text{BE_2})(\\text{AB_2})}}{2\\text{BE_2}}\\\\\\\\\n",
    "\\end{align}"
   ]
  },
  {
   "cell_type": "code",
   "execution_count": 246,
   "metadata": {},
   "outputs": [],
   "source": [
    "#Soluciones halladas por medio de la fórmula general\n",
    "\n",
    "sol1 = lambda x1: (-BE_21(x1) + np.sqrt(BE_21(x1)**2 - 4 * BE_2 * AB_2(x1))) / 2 * BE_2\n",
    "sol2 = lambda x1: (-BE_21(x1) - np.sqrt(BE_21(x1)**2 - 4 * BE_2 * AB_2(x1))) / 2 * BE_2"
   ]
  },
  {
   "cell_type": "markdown",
   "metadata": {},
   "source": [
    "### Gráfica de dispersión de las clases con las fronteras de cada una\n",
    "Las lineas que aparacen en la gráfica de dispersión representan ambas soluciones:       \n",
    "1. La línea roja representa la solución positiva.\n",
    "2. La línea cyan representa la solución negativa."
   ]
  },
  {
   "cell_type": "code",
   "execution_count": 248,
   "metadata": {},
   "outputs": [
    {
     "data": {
      "image/png": "[encoded data removed]",
      "text/plain": [
       "<Figure size 432x288 with 1 Axes>"
      ]
     },
     "metadata": {
      "needs_background": "light"
     },
     "output_type": "display_data"
    }
   ],
   "source": [
    "plt.plot(df2[df2.clase == 1].x1, df2[df2.clase == 1].x2, 'g.', alpha=0.50, markersize=12)\n",
    "plt.plot(df2[df2.clase == 2].x1, df2[df2.clase == 2].x2, 'b.', alpha=0.50, markersize=12)\n",
    "plt.plot(np.linspace(-10, 10, 10000), list(map(sol1, np.linspace(-10, 10, 10000))), 'r')\n",
    "plt.plot(np.linspace(-10, 10, 10000), list(map(sol2, np.linspace(-10, 10, 10000))), 'c')\n",
    "plt.show()"
   ]
  }
 ],
 "metadata": {
  "kernelspec": {
   "display_name": "Python 3",
   "language": "python",
   "name": "python3"
  },
  "language_info": {
   "codemirror_mode": {
    "name": "ipython",
    "version": 3
   },
   "file_extension": ".py",
   "mimetype": "text/x-python",
   "name": "python",
   "nbconvert_exporter": "python",
   "pygments_lexer": "ipython3",
   "version": "3.7.4"
  }
 },
 "nbformat": 4,
 "nbformat_minor": 2
}
